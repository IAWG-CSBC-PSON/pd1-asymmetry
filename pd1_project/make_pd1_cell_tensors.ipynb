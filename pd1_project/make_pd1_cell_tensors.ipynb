{
 "cells": [
  {
   "cell_type": "code",
   "execution_count": 1,
   "metadata": {},
   "outputs": [],
   "source": [
    "import pandas as pd\n",
    "import os\n",
    "import numpy as np\n",
    "import matplotlib.pyplot as plt\n",
    "import pims\n",
    "import pickle\n",
    "from skimage.measure import regionprops\n",
    "from pathlib import Path\n",
    "from gzip import GzipFile"
   ]
  },
  {
   "cell_type": "markdown",
   "metadata": {},
   "source": [
    "## Cell Tensors\n"
   ]
  },
  {
   "cell_type": "code",
   "execution_count": 72,
   "metadata": {},
   "outputs": [],
   "source": [
    "cell_data = pd.read_csv('rcnnPD1pos_by_TYRP1UNcomp_PD1UNcomp.txt')\n",
    "cell_data = cell_data.rename(\n",
    "    columns = {\"X1\": \"segmentation_ix\", \"Tile Row\": \"tile_y\", \"Tile Col\": \"tile_x\", \"Tile Z\": \"tile_z\", \"In-Tile Y\": \"cell_tile_y\", \"In-Tile X\": \"cell_tile_x\"}\n",
    ")"
   ]
  },
  {
   "cell_type": "code",
   "execution_count": 73,
   "metadata": {},
   "outputs": [
    {
     "data": {
      "text/html": [
       "<div>\n",
       "<style scoped>\n",
       "    .dataframe tbody tr th:only-of-type {\n",
       "        vertical-align: middle;\n",
       "    }\n",
       "\n",
       "    .dataframe tbody tr th {\n",
       "        vertical-align: top;\n",
       "    }\n",
       "\n",
       "    .dataframe thead th {\n",
       "        text-align: right;\n",
       "    }\n",
       "</style>\n",
       "<table border=\"1\" class=\"dataframe\">\n",
       "  <thead>\n",
       "    <tr style=\"text-align: right;\">\n",
       "      <th></th>\n",
       "      <th>segmentation_ix</th>\n",
       "      <th>Reg</th>\n",
       "      <th>tile_y</th>\n",
       "      <th>tile_x</th>\n",
       "      <th>tile_z</th>\n",
       "      <th>cell_tile_y</th>\n",
       "      <th>cell_tile_x</th>\n",
       "      <th>Absolute Y</th>\n",
       "      <th>Absolute X</th>\n",
       "      <th>Cell Size</th>\n",
       "      <th>...</th>\n",
       "      <th>segf233_UNcomp</th>\n",
       "      <th>segf234_UNcomp</th>\n",
       "      <th>segf241_UNcomp</th>\n",
       "      <th>segf242_UNcomp</th>\n",
       "      <th>segf243_UNcomp</th>\n",
       "      <th>segf244_UNcomp</th>\n",
       "      <th>segf251_UNcomp</th>\n",
       "      <th>segf252_UNcomp</th>\n",
       "      <th>segf253_UNcomp</th>\n",
       "      <th>segf254_UNcomp</th>\n",
       "    </tr>\n",
       "  </thead>\n",
       "  <tbody>\n",
       "    <tr>\n",
       "      <td>0</td>\n",
       "      <td>80</td>\n",
       "      <td>5</td>\n",
       "      <td>1</td>\n",
       "      <td>1</td>\n",
       "      <td>11</td>\n",
       "      <td>701.324324</td>\n",
       "      <td>261.054054</td>\n",
       "      <td>701</td>\n",
       "      <td>261</td>\n",
       "      <td>186</td>\n",
       "      <td>...</td>\n",
       "      <td>3468.032258</td>\n",
       "      <td>3468.032258</td>\n",
       "      <td>11783.215054</td>\n",
       "      <td>11783.215054</td>\n",
       "      <td>12866.064516</td>\n",
       "      <td>12866.064516</td>\n",
       "      <td>6182.258065</td>\n",
       "      <td>6182.258065</td>\n",
       "      <td>7117.930108</td>\n",
       "      <td>7117.930108</td>\n",
       "    </tr>\n",
       "    <tr>\n",
       "      <td>1</td>\n",
       "      <td>212</td>\n",
       "      <td>5</td>\n",
       "      <td>1</td>\n",
       "      <td>1</td>\n",
       "      <td>11</td>\n",
       "      <td>716.507692</td>\n",
       "      <td>264.353846</td>\n",
       "      <td>717</td>\n",
       "      <td>264</td>\n",
       "      <td>140</td>\n",
       "      <td>...</td>\n",
       "      <td>1584.450000</td>\n",
       "      <td>1584.450000</td>\n",
       "      <td>12921.900000</td>\n",
       "      <td>12921.900000</td>\n",
       "      <td>11500.878571</td>\n",
       "      <td>11500.878571</td>\n",
       "      <td>6286.750000</td>\n",
       "      <td>6286.750000</td>\n",
       "      <td>3635.735714</td>\n",
       "      <td>3635.735714</td>\n",
       "    </tr>\n",
       "    <tr>\n",
       "      <td>2</td>\n",
       "      <td>219</td>\n",
       "      <td>5</td>\n",
       "      <td>1</td>\n",
       "      <td>1</td>\n",
       "      <td>11</td>\n",
       "      <td>705.239583</td>\n",
       "      <td>276.666667</td>\n",
       "      <td>705</td>\n",
       "      <td>277</td>\n",
       "      <td>223</td>\n",
       "      <td>...</td>\n",
       "      <td>2402.470852</td>\n",
       "      <td>2402.470852</td>\n",
       "      <td>13242.367713</td>\n",
       "      <td>13242.367713</td>\n",
       "      <td>12989.067265</td>\n",
       "      <td>12989.067265</td>\n",
       "      <td>6563.331839</td>\n",
       "      <td>6563.331839</td>\n",
       "      <td>4254.322870</td>\n",
       "      <td>4254.322870</td>\n",
       "    </tr>\n",
       "    <tr>\n",
       "      <td>3</td>\n",
       "      <td>122</td>\n",
       "      <td>5</td>\n",
       "      <td>2</td>\n",
       "      <td>1</td>\n",
       "      <td>10</td>\n",
       "      <td>13.150538</td>\n",
       "      <td>283.225806</td>\n",
       "      <td>733</td>\n",
       "      <td>283</td>\n",
       "      <td>189</td>\n",
       "      <td>...</td>\n",
       "      <td>7170.661376</td>\n",
       "      <td>7170.661376</td>\n",
       "      <td>12770.460317</td>\n",
       "      <td>12770.460317</td>\n",
       "      <td>15337.449735</td>\n",
       "      <td>15337.449735</td>\n",
       "      <td>5986.857143</td>\n",
       "      <td>5986.857143</td>\n",
       "      <td>13440.227513</td>\n",
       "      <td>13440.227513</td>\n",
       "    </tr>\n",
       "    <tr>\n",
       "      <td>4</td>\n",
       "      <td>128</td>\n",
       "      <td>5</td>\n",
       "      <td>2</td>\n",
       "      <td>1</td>\n",
       "      <td>10</td>\n",
       "      <td>32.719298</td>\n",
       "      <td>135.298246</td>\n",
       "      <td>753</td>\n",
       "      <td>135</td>\n",
       "      <td>154</td>\n",
       "      <td>...</td>\n",
       "      <td>1584.824675</td>\n",
       "      <td>1584.824675</td>\n",
       "      <td>11859.629870</td>\n",
       "      <td>11859.629870</td>\n",
       "      <td>11903.779221</td>\n",
       "      <td>11903.779221</td>\n",
       "      <td>5830.935065</td>\n",
       "      <td>5830.935065</td>\n",
       "      <td>3637.285714</td>\n",
       "      <td>3637.285714</td>\n",
       "    </tr>\n",
       "  </tbody>\n",
       "</table>\n",
       "<p>5 rows × 110 columns</p>\n",
       "</div>"
      ],
      "text/plain": [
       "   segmentation_ix  Reg  tile_y  tile_x  tile_z  cell_tile_y  cell_tile_x  \\\n",
       "0               80    5       1       1      11   701.324324   261.054054   \n",
       "1              212    5       1       1      11   716.507692   264.353846   \n",
       "2              219    5       1       1      11   705.239583   276.666667   \n",
       "3              122    5       2       1      10    13.150538   283.225806   \n",
       "4              128    5       2       1      10    32.719298   135.298246   \n",
       "\n",
       "   Absolute Y  Absolute X  Cell Size  ...  segf233_UNcomp  segf234_UNcomp  \\\n",
       "0         701         261        186  ...     3468.032258     3468.032258   \n",
       "1         717         264        140  ...     1584.450000     1584.450000   \n",
       "2         705         277        223  ...     2402.470852     2402.470852   \n",
       "3         733         283        189  ...     7170.661376     7170.661376   \n",
       "4         753         135        154  ...     1584.824675     1584.824675   \n",
       "\n",
       "   segf241_UNcomp  segf242_UNcomp  segf243_UNcomp  segf244_UNcomp  \\\n",
       "0    11783.215054    11783.215054    12866.064516    12866.064516   \n",
       "1    12921.900000    12921.900000    11500.878571    11500.878571   \n",
       "2    13242.367713    13242.367713    12989.067265    12989.067265   \n",
       "3    12770.460317    12770.460317    15337.449735    15337.449735   \n",
       "4    11859.629870    11859.629870    11903.779221    11903.779221   \n",
       "\n",
       "   segf251_UNcomp  segf252_UNcomp  segf253_UNcomp  segf254_UNcomp  \n",
       "0     6182.258065     6182.258065     7117.930108     7117.930108  \n",
       "1     6286.750000     6286.750000     3635.735714     3635.735714  \n",
       "2     6563.331839     6563.331839     4254.322870     4254.322870  \n",
       "3     5986.857143     5986.857143    13440.227513    13440.227513  \n",
       "4     5830.935065     5830.935065     3637.285714     3637.285714  \n",
       "\n",
       "[5 rows x 110 columns]"
      ]
     },
     "execution_count": 73,
     "metadata": {},
     "output_type": "execute_result"
    }
   ],
   "source": [
    "cell_data.head()"
   ]
  },
  {
   "cell_type": "code",
   "execution_count": 26,
   "metadata": {},
   "outputs": [],
   "source": [
    "test = next(iter(cell_data.itertuples()))"
   ]
  },
  {
   "cell_type": "code",
   "execution_count": 170,
   "metadata": {},
   "outputs": [],
   "source": [
    "save_dir = Path('/home/idies/workspace/Storage/bmyury/shared_scripts_and_files/rcnn_cell_tensors')\n",
    "save_dir.mkdir(exist_ok=True)\n",
    "\n",
    "channelNames = list(pd.read_csv('channelNames.txt', header = None)[0].values)"
   ]
  },
  {
   "cell_type": "code",
   "execution_count": 171,
   "metadata": {},
   "outputs": [
    {
     "data": {
      "text/plain": [
       "100"
      ]
     },
     "execution_count": 171,
     "metadata": {},
     "output_type": "execute_result"
    }
   ],
   "source": [
    "len(channelNames)"
   ]
  },
  {
   "cell_type": "code",
   "execution_count": 172,
   "metadata": {},
   "outputs": [],
   "source": [
    "def get_segmentation_mask(\n",
    "    tile_x, tile_y, tile_z, pattern='reg005_X{x:02d}_Y{y:02d}_Z{z:02d}visual_growth3labeled_mask.tif', directory='reg5_Graham_masks'\n",
    "):\n",
    "    img = pims.TiffStack(Path(directory) / pattern.format(x=tile_x, y=tile_y, z=tile_z))\n",
    "    return np.array(img)[0, ...]"
   ]
  },
  {
   "cell_type": "code",
   "execution_count": 47,
   "metadata": {},
   "outputs": [
    {
     "name": "stdout",
     "output_type": "stream",
     "text": [
      "Automatic pdb calling has been turned ON\n"
     ]
    }
   ],
   "source": [
    "%pdb"
   ]
  },
  {
   "cell_type": "code",
   "execution_count": 174,
   "metadata": {},
   "outputs": [],
   "source": [
    "def make_cell_stack(\n",
    "    cell_data, channelNames, markers,\n",
    "    mask_cells=True, box_size=32, tile_path=Path('reg5_best_focal_plane'),\n",
    "    tile_pattern='reg005_X{x:02d}_Y{y:02d}_Z{z:02d}.tif'\n",
    "):\n",
    "    cell_data[\"cell_idx\"] = np.arange(cell_data.shape[0])\n",
    "    cell_stack = np.empty((cell_data.shape[0], len(markers), box_size, box_size), dtype=np.uint16)\n",
    "    skipped_cells = []\n",
    "    cd_grouped = cell_data.groupby([\"tile_x\", \"tile_y\", \"tile_z\"])\n",
    "    for (tx, ty, z), cd in cd_grouped:\n",
    "        print((tx, ty, z))\n",
    "        tn = tile_pattern.format(x=tx, y=ty, z=z)\n",
    "        img = np.array(pims.TiffStack(tile_path / tn))\n",
    "        img = np.pad(img, ((0, 0), (box_size, box_size), (box_size, box_size)))\n",
    "        if mask_cells:\n",
    "            segmentation_mask = get_segmentation_mask(tx, ty, z)\n",
    "            segmentation_mask = np.pad(segmentation_mask, box_size)\n",
    "        for c in cd.itertuples():\n",
    "            cx = int(c.cell_tile_x) + box_size\n",
    "            cy = int(c.cell_tile_y) + box_size\n",
    "            cell_box = (\n",
    "                (cy - box_size//2, cy + box_size//2),\n",
    "                (cx - box_size//2, cx + box_size//2)\n",
    "            )\n",
    "            ci = img[\n",
    "                :,\n",
    "                cell_box[0][0]:cell_box[0][1],\n",
    "                cell_box[1][0]:cell_box[1][1]\n",
    "            ]\n",
    "            if mask_cells:\n",
    "                mask = segmentation_mask[\n",
    "                    cell_box[0][0]:cell_box[0][1],\n",
    "                    cell_box[1][0]:cell_box[1][1]\n",
    "                ]\n",
    "                ci = ci.copy()\n",
    "                ci[:, mask != c.segmentation_ix] = 0\n",
    "            cell_stack[c.cell_idx, :, :, :] = ci\n",
    "    return cell_stack"
   ]
  },
  {
   "cell_type": "code",
   "execution_count": 182,
   "metadata": {},
   "outputs": [
    {
     "name": "stdout",
     "output_type": "stream",
     "text": [
      "(1, 1, 11)\n",
      "(1, 2, 10)\n",
      "(1, 3, 10)\n",
      "(1, 7, 10)\n",
      "(1, 8, 9)\n",
      "(1, 9, 9)\n",
      "(2, 3, 10)\n",
      "(2, 7, 10)\n",
      "(2, 8, 9)\n",
      "(2, 9, 9)\n",
      "(3, 1, 10)\n",
      "(3, 2, 9)\n",
      "(3, 3, 9)\n",
      "(3, 4, 8)\n",
      "(3, 5, 10)\n",
      "(3, 6, 10)\n",
      "(3, 7, 10)\n",
      "(3, 8, 8)\n",
      "(3, 9, 8)\n",
      "(4, 1, 10)\n",
      "(4, 2, 8)\n",
      "(4, 4, 8)\n",
      "(4, 5, 9)\n",
      "(4, 6, 10)\n",
      "(4, 7, 10)\n",
      "(4, 8, 7)\n",
      "(4, 9, 8)\n",
      "(5, 1, 9)\n",
      "(5, 2, 8)\n",
      "(5, 3, 7)\n",
      "(5, 4, 8)\n",
      "(5, 5, 8)\n",
      "(5, 6, 10)\n",
      "(5, 7, 8)\n",
      "(5, 8, 7)\n",
      "(5, 9, 7)\n",
      "(6, 1, 8)\n",
      "(6, 2, 8)\n",
      "(6, 3, 7)\n",
      "(6, 4, 7)\n",
      "(6, 5, 8)\n",
      "(6, 6, 8)\n",
      "(6, 7, 8)\n",
      "(6, 8, 7)\n",
      "(6, 9, 7)\n",
      "(7, 1, 8)\n",
      "(7, 2, 7)\n",
      "(7, 3, 7)\n",
      "(7, 4, 6)\n",
      "(7, 5, 7)\n",
      "(7, 6, 8)\n",
      "(7, 7, 7)\n",
      "(7, 8, 6)\n",
      "(7, 9, 7)\n"
     ]
    }
   ],
   "source": [
    "cell_stack = make_cell_stack(cell_data, channelNames, channelNames, mask_cells=True)"
   ]
  },
  {
   "cell_type": "code",
   "execution_count": 183,
   "metadata": {},
   "outputs": [
    {
     "name": "stdout",
     "output_type": "stream",
     "text": [
      "cell_stack shape (3223, 100, 32, 32)\n"
     ]
    }
   ],
   "source": [
    "print('cell_stack shape', cell_stack.shape)"
   ]
  },
  {
   "cell_type": "code",
   "execution_count": 184,
   "metadata": {},
   "outputs": [],
   "source": [
    "np.save(\n",
    "    save_dir / \"all_cells_markers_tensor_masked.npy\",\n",
    "    cell_stack\n",
    ")"
   ]
  },
  {
   "cell_type": "code",
   "execution_count": 185,
   "metadata": {},
   "outputs": [
    {
     "data": {
      "text/plain": [
       "<matplotlib.image.AxesImage at 0x7f2e205a66d0>"
      ]
     },
     "execution_count": 185,
     "metadata": {},
     "output_type": "execute_result"
    },
    {
     "data": {
      "image/png": "[encoded data removed]",
      "text/plain": [
       "<Figure size 432x288 with 1 Axes>"
      ]
     },
     "metadata": {
      "needs_background": "light"
     },
     "output_type": "display_data"
    }
   ],
   "source": [
    "plt.imshow(cell_stack[0, 39, ...])"
   ]
  },
  {
   "cell_type": "code",
   "execution_count": null,
   "metadata": {},
   "outputs": [],
   "source": []
  }
 ],
 "metadata": {
  "kernelspec": {
   "display_name": "Python 3.7 (py37)",
   "language": "python",
   "name": "py37"
  },
  "language_info": {
   "codemirror_mode": {
    "name": "ipython",
    "version": 3
   },
   "file_extension": ".py",
   "mimetype": "text/x-python",
   "name": "python",
   "nbconvert_exporter": "python",
   "pygments_lexer": "ipython3",
   "version": "3.7.4"
  }
 },
 "nbformat": 4,
 "nbformat_minor": 4
}
